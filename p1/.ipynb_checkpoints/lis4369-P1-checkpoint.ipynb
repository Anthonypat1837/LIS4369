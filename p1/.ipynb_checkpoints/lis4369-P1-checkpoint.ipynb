{
 "cells": [
  {
   "cell_type": "code",
   "execution_count": null,
   "id": "62249000-1267-4d4f-805c-1a3a3ec5c531",
   "metadata": {},
   "outputs": [],
   "source": [
    "def get_requirements():\n",
    "\n",
    "    print(\"\\nProgram Requirements:\\n\"\n",
    "          + \"1. Run demo.py. \\n\"\n",
    "          + \"2. If errors, more than likely missing installations. \\n\"\n",
    "          + \"3. Research how to do the following installations: \\n\"\n",
    "                + \"a. pandas\\n.\"\n",
    "                + \"b. pandas-datareader\\n\"\n",
    "                + \"c. matplotlib\\n\"\n",
    "          + \"4. Create at least 3 functions that are called by the program: \\n\"\n",
    "                + \"a. main() - calls the two other functions\\n\"\n",
    "                + \"b. get_requirements() - displays program requirements\\n\"\n",
    "                + \"c. data_analysis_1() - displays the following data\\n\")"
   ]
  },
  {
   "cell_type": "code",
   "execution_count": null,
   "id": "4fbabd66-e4a1-412d-a7a8-4adc2cd029bf",
   "metadata": {},
   "outputs": [],
   "source": [
    "def data_analysis_1():\n",
    "\n",
    "    import datetime as dt\n",
    "    import pandas_datareader as pdr\n",
    "    import matplotlib.pyplot as plt\n",
    "    from matplotlib import style\n",
    "\n",
    "\n",
    "    start = dt.datetime(2010, 1, 1)\n",
    "\n",
    "    end = dt.datetime.now()\n",
    "\n",
    "    df = pdr.DataReader([\"DJIA\", \"SP500\"], \"fred\", start, end)\n",
    "\n",
    "    print(\"\\nPrint number of records: \")\n",
    "    print(len(df))\n",
    "\n",
    "    print(\"\\nPrint columns: \")\n",
    "    print(df.columns)\n",
    "\n",
    "    print(\"\\nPrint data frame: \")\n",
    "    print(df)\n",
    "\n",
    "    print(\"\\nPrint first five lines: \")\n",
    "    print(df.head())\n",
    "\n",
    "    print(\"\\nPrint last five lines: \")\n",
    "    print(df.tail())\n",
    "\n",
    "    print(\"\\nPrint first 2 lines: \")\n",
    "    print(df.head(2))\n",
    "\n",
    "    print(\"\\nPrint last 2 lines: \")\n",
    "    print(df.tail(2))\n",
    "\n",
    "    style.use('ggplot')\n",
    "\n",
    "    df['DJIA'].plot()\n",
    "    df['SP500'].plot()\n",
    "    plt.legend()\n",
    "    plt.show()"
   ]
  },
  {
   "cell_type": "code",
   "execution_count": null,
   "id": "86127fdb-a421-4164-b005-738e3ba0b0c8",
   "metadata": {},
   "outputs": [],
   "source": [
    "import functions as f\n",
    "\n",
    "def main():\n",
    "    f.get_requirements()\n",
    "    f.data_analysis_1()"
   ]
  },
  {
   "cell_type": "code",
   "execution_count": null,
   "id": "9fbe4691-d8c3-4b37-b04b-d5c6da63e7fb",
   "metadata": {
    "jp-MarkdownHeadingCollapsed": true,
    "tags": []
   },
   "outputs": [],
   "source": [
    "if __name__ == '__main__':\n",
    "    main()"
   ]
  }
 ],
 "metadata": {
  "kernelspec": {
   "display_name": "Python 3 (ipykernel)",
   "language": "python",
   "name": "python3"
  },
  "language_info": {
   "codemirror_mode": {
    "name": "ipython",
    "version": 3
   },
   "file_extension": ".py",
   "mimetype": "text/x-python",
   "name": "python",
   "nbconvert_exporter": "python",
   "pygments_lexer": "ipython3",
   "version": "3.10.12"
  }
 },
 "nbformat": 4,
 "nbformat_minor": 5
}
