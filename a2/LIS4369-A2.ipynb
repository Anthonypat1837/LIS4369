{
 "cells": [
  {
   "cell_type": "code",
   "execution_count": 1,
   "id": "fb953150-2f8f-4ddf-90a8-13cb221d5814",
   "metadata": {},
   "outputs": [],
   "source": [
    "def get_requirements():\n",
    "    print(\"Payroll Calculator\")\n",
    "    print(\"\\nProgram Requirements:\\n\"\n",
    "          + \"1. Must use float data type for user input.\\n\"\n",
    "          + \"2. Overtime rate: 1.5 times hourly rate (hours over 40).\\n\"\n",
    "          + \"3. Holiday rate: 2.0 times hourly rate (all holiday hours).\\n\"\n",
    "          + \"4. Must format currency with dollar sign, and round to two decimal places. \\n\"\n",
    "          + \"5. Create at least three functions that are called by the program:\\n\"\n",
    "          + \"\\ta. main(): calls at least two other functions.\\n\"\n",
    "          + \"\\tb. get_requirements(): displays the program requirements.\\n\"\n",
    "          + \"\\tc. calculate_payroll(): calculates an individual one-week paycheck.\\n\")"
   ]
  },
  {
   "cell_type": "code",
   "execution_count": 2,
   "id": "2ed4524e-c3ef-424b-984f-af9683fb0d78",
   "metadata": {},
   "outputs": [],
   "source": [
    "def calculate_payroll():\n",
    "    base_hours = 40\n",
    "    ot_rate = 1.5\n",
    "    holiday_rate = 2.0\n",
    "\n",
    "    print(\"Input:\")\n",
    "    hours = float(input('Enter hours worked: '))\n",
    "    holiday_hours = float(input('Enter holiday hours: '))\n",
    "    pay_rate = float(input('Enter hourly pay rate: '))\n",
    "\n",
    "    base_pay = base_hours * pay_rate\n",
    "    overtime_hours = hours - base_hours\n",
    "\n",
    "    if hours > base_hours:\n",
    "\n",
    "        # calculate and display overtime pay\n",
    "        overtime_pay = overtime_hours * pay_rate * ot_rate\n",
    "\n",
    "        # calculate and display holiday pay\n",
    "        holiday_pay = holiday_hours * pay_rate * holiday_rate\n",
    "        # calculate gross pay\n",
    "        gross_pay = base_hours * pay_rate + overtime_pay + holiday_pay\n",
    "\n",
    "        print_pay(base_pay, overtime_pay, holiday_pay, gross_pay)\n",
    "\n",
    "\n",
    "    else:\n",
    "        overtime_pay = 0\n",
    "        holiday_pay = holiday_hours * pay_rate * holiday_rate\n",
    "        gross_pay = hours * pay_rate + holiday_pay\n",
    "        \n",
    "        print_pay(base_pay, overtime_pay, holiday_pay, gross_pay)\n",
    "\n",
    "\n",
    "\n",
    "    print()"
   ]
  },
  {
   "cell_type": "code",
   "execution_count": 3,
   "id": "3f588355-9592-41e0-904c-df04d3b1e543",
   "metadata": {},
   "outputs": [],
   "source": [
    "def print_pay(base_pay, overtime_pay, holiday_pay, gross_pay):\n",
    "    print(\"\\nOutput:\")\n",
    "    print(\"{0:<10} ${1:,.2f}\".format('Base:', base_pay))\n",
    "    print(\"{0:<10} ${1:,.2f}\".format('Overtime:', overtime_pay))\n",
    "    print(\"{0:<10} ${1:,.2f}\".format('Holiday:', holiday_pay))\n",
    "    print(\"{0:<10} ${1:,.2f}\".format('Gross:', gross_pay))"
   ]
  },
  {
   "cell_type": "code",
   "execution_count": 4,
   "id": "9f2a21d3-c48f-4f51-a6e0-5ad70ce7867b",
   "metadata": {},
   "outputs": [
    {
     "name": "stdout",
     "output_type": "stream",
     "text": [
      "Payroll Calculator\n",
      "\n",
      "Program Requirements:\n",
      "1. Must use float data type for user input.\n",
      "2. Overtime rate: 1.5 times hourly rate (hours over 40).\n",
      "3. Holiday rate: 2.0 times hourly rate (all holiday hours).\n",
      "4. Must format currency with dollar sign, and round to two decimal places. \n",
      "5. Create at least three functions that are called by the program:\n",
      "\ta. main(): calls at least two other functions.\n",
      "\tb. get_requirements(): displays the program requirements.\n",
      "\tc. calculate_payroll(): calculates an individual one-week paycheck.\n",
      "\n",
      "Input:\n"
     ]
    },
    {
     "name": "stdin",
     "output_type": "stream",
     "text": [
      "Enter hours worked:  40\n",
      "Enter holiday hours:  10\n",
      "Enter hourly pay rate:  10\n"
     ]
    },
    {
     "name": "stdout",
     "output_type": "stream",
     "text": [
      "\n",
      "Output:\n",
      "Base:      $400.00\n",
      "Overtime:  $0.00\n",
      "Holiday:   $200.00\n",
      "Gross:     $600.00\n",
      "\n"
     ]
    }
   ],
   "source": [
    "import functions as f\n",
    "\n",
    "def main():\n",
    "    f.get_requirements()\n",
    "    f.calculate_payroll()\n",
    "\n",
    "if __name__ == '__main__':\n",
    "    main()"
   ]
  },
  {
   "cell_type": "code",
   "execution_count": 5,
   "id": "0e68e97c-3698-458a-a5aa-1bc394cedc41",
   "metadata": {},
   "outputs": [
    {
     "name": "stdout",
     "output_type": "stream",
     "text": [
      "Payroll Calculator\n",
      "\n",
      "Program Requirements:\n",
      "1. Must use float data type for user input.\n",
      "2. Overtime rate: 1.5 times hourly rate (hours over 40).\n",
      "3. Holiday rate: 2.0 times hourly rate (all holiday hours).\n",
      "4. Must format currency with dollar sign, and round to two decimal places. \n",
      "5. Create at least three functions that are called by the program:\n",
      "\ta. main(): calls at least two other functions.\n",
      "\tb. get_requirements(): displays the program requirements.\n",
      "\tc. calculate_payroll(): calculates an individual one-week paycheck.\n",
      "\n",
      "Input:\n"
     ]
    },
    {
     "name": "stdin",
     "output_type": "stream",
     "text": [
      "Enter hours worked:  50\n",
      "Enter holiday hours:  10\n",
      "Enter hourly pay rate:  10\n"
     ]
    },
    {
     "name": "stdout",
     "output_type": "stream",
     "text": [
      "\n",
      "Output:\n",
      "Base:      $400.00\n",
      "Overtime:  $150.00\n",
      "Holiday:   $200.00\n",
      "Gross:     $750.00\n",
      "\n"
     ]
    }
   ],
   "source": [
    "if __name__ == '__main__':\n",
    "    main()"
   ]
  }
 ],
 "metadata": {
  "kernelspec": {
   "display_name": "Python 3 (ipykernel)",
   "language": "python",
   "name": "python3"
  },
  "language_info": {
   "codemirror_mode": {
    "name": "ipython",
    "version": 3
   },
   "file_extension": ".py",
   "mimetype": "text/x-python",
   "name": "python",
   "nbconvert_exporter": "python",
   "pygments_lexer": "ipython3",
   "version": "3.10.12"
  }
 },
 "nbformat": 4,
 "nbformat_minor": 5
}
