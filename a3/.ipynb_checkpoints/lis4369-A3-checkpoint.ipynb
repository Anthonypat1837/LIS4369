{
 "cells": [
  {
   "cell_type": "code",
   "execution_count": 1,
   "id": "62249000-1267-4d4f-805c-1a3a3ec5c531",
   "metadata": {},
   "outputs": [],
   "source": [
    "def get_requirements():\n",
    "\n",
    "    print(\"\\nProgram Requirements:\\n\"\n",
    "          + \"1. Calculate Home Interior Paint Cost. \\n\"\n",
    "          + \"2. Must Use Float Data Types.\\n\"\n",
    "          + \"3. Must Use SQFT_PER_GALLON constant (350).\\n\"\n",
    "          + \"4. Must Use Iteration Structure. \\n\"\n",
    "          + \"5. Format, right align numbers, and round to two decimal places.\\n\"\n",
    "          + \"6. Create at least five functions that are called by the program.\\n\"\n",
    "                + \"a. main()\\n\"\n",
    "                + \"b. get_requirements().\\n\"\n",
    "                + \"c. estimate_painting_cost()\\n\"\n",
    "                + \"d. print_painting_cost()\\n\"\n",
    "                + \"e. print_painting_percentage()\\n\")"
   ]
  },
  {
   "cell_type": "code",
   "execution_count": 2,
   "id": "4fbabd66-e4a1-412d-a7a8-4adc2cd029bf",
   "metadata": {},
   "outputs": [],
   "source": [
    "def estimate_painting_cost():\n",
    "\n",
    "    answer = 'y'\n",
    "\n",
    "    while answer == 'y':\n",
    "\n",
    "        SQFT_PER_GALLON = 350\n",
    "        numGallons = 0\n",
    "\n",
    "        print(\"Input:\")\n",
    "        inter_sqft = float(input('Enter total SQFT: '))\n",
    "        price_per_gallon = float(input('Enter price per gallon: '))\n",
    "        paint_rate = float(input('Enter hourly painting rate: '))\n",
    "\n",
    "\n",
    "        numGallons = inter_sqft / SQFT_PER_GALLON\n",
    "\n",
    "        paint_cost = price_per_gallon * numGallons\n",
    "        labor_cost = paint_rate * inter_sqft\n",
    "        total_cost = paint_cost + labor_cost\n",
    "\n",
    "        paint_percent = (paint_cost / total_cost) * 100\n",
    "        labor_percent = (labor_cost / total_cost) * 100\n",
    "        total_percent = (total_cost / total_cost) * 100\n",
    "\n",
    "        print_painting_estimate(inter_sqft, SQFT_PER_GALLON, numGallons, price_per_gallon, paint_rate)\n",
    "        print()\n",
    "        print_painting_percentage(paint_cost, labor_cost, total_cost, paint_percent, labor_percent, total_percent)\n",
    "        print()\n",
    "\n",
    "\n",
    "        answer = input(\"Estimate another paint job? (y/n): \")\n",
    "\n",
    "    while answer == 'n':\n",
    "        print(\"Thank you for using our Paint Estimator.\")\n",
    "        print(\"Please see our website: https://www.anthonypatregnani.tech\")\n",
    "        exit()"
   ]
  },
  {
   "cell_type": "code",
   "execution_count": 3,
   "id": "c1e0e215-ba52-4eca-aa4b-571db6e3ac1d",
   "metadata": {},
   "outputs": [],
   "source": [
    "def print_painting_estimate(inter_sqft, SQFT_PER_GALLON, numGallons, price_per_gallon, paint_rate):\n",
    "    print(\"\\nOutput:\")\n",
    "    print(\"{0:<20} {1}\".format('Item', 'Amount'))\n",
    "    print(\"{0:<20} {1:,.2f}\".format('Total SQFT:', inter_sqft))\n",
    "    print(\"{0:<20} {1:,.2f}\".format('SQFT per Gallon:', SQFT_PER_GALLON))\n",
    "    print(\"{0:<20} {1:,.2f}\".format('Number of gallons:', numGallons))\n",
    "    print(\"{0:<20} ${1:,.2f}\".format('Paint per gallons:', price_per_gallon))\n",
    "    print(\"{0:<20} ${1:,.2f}\".format('Labor per sqft:', paint_rate))"
   ]
  },
  {
   "cell_type": "code",
   "execution_count": 4,
   "id": "556e18c5-3f5a-4ca4-8b81-7b4c71fe7eee",
   "metadata": {},
   "outputs": [],
   "source": [
    "def print_painting_percentage(paint_cost, labor_cost, total_cost, paint_percent, labor_percent, total_percent):\n",
    "    print(\"{0:<10} {1:<15} {2}\".format('Cost', 'Amount', 'Percent'))\n",
    "    print(\"{0:<10} ${1:<15,.2f} {2:,.2f}\".format('Paint:', paint_cost, paint_percent))\n",
    "    print(\"{0:<10} ${1:<15,.2f} {2:,.2f}\".format('Labor:', labor_cost, labor_percent))\n",
    "    print(\"{0:<10} ${1:<15,.2f} {2:,.2f}\".format('Total:', total_cost, total_percent))"
   ]
  },
  {
   "cell_type": "code",
   "execution_count": 5,
   "id": "86127fdb-a421-4164-b005-738e3ba0b0c8",
   "metadata": {},
   "outputs": [],
   "source": [
    "import functions as f\n",
    "\n",
    "def main():\n",
    "    f.get_requirements()\n",
    "    f.estimate_painting_cost()"
   ]
  },
  {
   "cell_type": "code",
   "execution_count": 6,
   "id": "552a649c-959f-4b2a-93bf-912711eda646",
   "metadata": {},
   "outputs": [
    {
     "name": "stdout",
     "output_type": "stream",
     "text": [
      "\n",
      "Program Requirements:\n",
      "1. Calculate Home Interior Paint Cost. \n",
      "2. Must Use Float Data Types.\n",
      "3. Must Use SQFT_PER_GALLON constant (350).\n",
      "4. Must Use Iteration Structure. \n",
      "5. Format, right align numbers, and round to two decimal places.\n",
      "6. Create at least five functions that are called by the program.\n",
      "a. main()\n",
      "b. get_requirements().\n",
      "c. estimate_painting_cost()\n",
      "d. print_painting_cost()\n",
      "e. print_painting_percentage()\n",
      "\n",
      "Input:\n"
     ]
    },
    {
     "name": "stdin",
     "output_type": "stream",
     "text": [
      "Enter total SQFT:  2500\n",
      "Enter price per gallon:  20\n",
      "Enter hourly painting rate:  2\n"
     ]
    },
    {
     "name": "stdout",
     "output_type": "stream",
     "text": [
      "\n",
      "Output:\n",
      "Item                 Amount\n",
      "Total SQFT:          2,500.00\n",
      "SQFT per Gallon:     350.00\n",
      "Number of gallons:   7.14\n",
      "Paint per gallons:   $20.00\n",
      "Labor per sqft:      $2.00\n",
      "\n",
      "Cost       Amount          Percent\n",
      "Paint:     $142.86          2.78\n",
      "Labor:     $5,000.00        97.22\n",
      "Total:     $5,142.86        100.00\n",
      "\n"
     ]
    },
    {
     "name": "stdin",
     "output_type": "stream",
     "text": [
      "Estimate another paint job? (y/n):  y\n"
     ]
    },
    {
     "name": "stdout",
     "output_type": "stream",
     "text": [
      "Input:\n"
     ]
    },
    {
     "name": "stdin",
     "output_type": "stream",
     "text": [
      "Enter total SQFT:  3500\n",
      "Enter price per gallon:  40\n",
      "Enter hourly painting rate:  2\n"
     ]
    },
    {
     "name": "stdout",
     "output_type": "stream",
     "text": [
      "\n",
      "Output:\n",
      "Item                 Amount\n",
      "Total SQFT:          3,500.00\n",
      "SQFT per Gallon:     350.00\n",
      "Number of gallons:   10.00\n",
      "Paint per gallons:   $40.00\n",
      "Labor per sqft:      $2.00\n",
      "\n",
      "Cost       Amount          Percent\n",
      "Paint:     $400.00          5.41\n",
      "Labor:     $7,000.00        94.59\n",
      "Total:     $7,400.00        100.00\n",
      "\n"
     ]
    },
    {
     "name": "stdin",
     "output_type": "stream",
     "text": [
      "Estimate another paint job? (y/n):  n\n"
     ]
    },
    {
     "name": "stdout",
     "output_type": "stream",
     "text": [
      "Thank you for using our Paint Estimator.\n",
      "Please see our website: https://www.anthonypatregnani.tech\n"
     ]
    },
    {
     "ename": "NameError",
     "evalue": "name 'quit' is not defined",
     "output_type": "error",
     "traceback": [
      "\u001b[1;31m---------------------------------------------------------------------------\u001b[0m",
      "\u001b[1;31mNameError\u001b[0m                                 Traceback (most recent call last)",
      "Cell \u001b[1;32mIn[6], line 2\u001b[0m\n\u001b[0;32m      1\u001b[0m \u001b[38;5;28;01mif\u001b[39;00m \u001b[38;5;18m__name__\u001b[39m \u001b[38;5;241m==\u001b[39m \u001b[38;5;124m'\u001b[39m\u001b[38;5;124m__main__\u001b[39m\u001b[38;5;124m'\u001b[39m:\n\u001b[1;32m----> 2\u001b[0m     \u001b[43mmain\u001b[49m\u001b[43m(\u001b[49m\u001b[43m)\u001b[49m\n",
      "Cell \u001b[1;32mIn[5], line 5\u001b[0m, in \u001b[0;36mmain\u001b[1;34m()\u001b[0m\n\u001b[0;32m      3\u001b[0m \u001b[38;5;28;01mdef\u001b[39;00m \u001b[38;5;21mmain\u001b[39m():\n\u001b[0;32m      4\u001b[0m     f\u001b[38;5;241m.\u001b[39mget_requirements()\n\u001b[1;32m----> 5\u001b[0m     \u001b[43mf\u001b[49m\u001b[38;5;241;43m.\u001b[39;49m\u001b[43mestimate_painting_cost\u001b[49m\u001b[43m(\u001b[49m\u001b[43m)\u001b[49m\n",
      "File \u001b[1;32m~\\repos\\lis4369\\a3\\functions.py:59\u001b[0m, in \u001b[0;36mestimate_painting_cost\u001b[1;34m()\u001b[0m\n\u001b[0;32m     57\u001b[0m \u001b[38;5;28mprint\u001b[39m(\u001b[38;5;124m\"\u001b[39m\u001b[38;5;124mThank you for using our Paint Estimator.\u001b[39m\u001b[38;5;124m\"\u001b[39m)\n\u001b[0;32m     58\u001b[0m \u001b[38;5;28mprint\u001b[39m(\u001b[38;5;124m\"\u001b[39m\u001b[38;5;124mPlease see our website: https://www.anthonypatregnani.tech\u001b[39m\u001b[38;5;124m\"\u001b[39m)\n\u001b[1;32m---> 59\u001b[0m \u001b[43mquit\u001b[49m()\n",
      "\u001b[1;31mNameError\u001b[0m: name 'quit' is not defined"
     ]
    }
   ],
   "source": [
    "if __name__ == '__main__':\n",
    "    main()"
   ]
  }
 ],
 "metadata": {
  "kernelspec": {
   "display_name": "Python 3 (ipykernel)",
   "language": "python",
   "name": "python3"
  },
  "language_info": {
   "codemirror_mode": {
    "name": "ipython",
    "version": 3
   },
   "file_extension": ".py",
   "mimetype": "text/x-python",
   "name": "python",
   "nbconvert_exporter": "python",
   "pygments_lexer": "ipython3",
   "version": "3.10.12"
  }
 },
 "nbformat": 4,
 "nbformat_minor": 5
}
